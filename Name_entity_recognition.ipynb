{
  "nbformat": 4,
  "nbformat_minor": 0,
  "metadata": {
    "colab": {
      "provenance": [],
      "authorship_tag": "ABX9TyNoCQU4a9kqofwDq+EJvxxw",
      "include_colab_link": true
    },
    "kernelspec": {
      "name": "python3",
      "display_name": "Python 3"
    },
    "language_info": {
      "name": "python"
    }
  },
  "cells": [
    {
      "cell_type": "markdown",
      "metadata": {
        "id": "view-in-github",
        "colab_type": "text"
      },
      "source": [
        "<a href=\"https://colab.research.google.com/github/Vamsipops/Drought_prediction/blob/main/Name_entity_recognition.ipynb\" target=\"_parent\"><img src=\"https://colab.research.google.com/assets/colab-badge.svg\" alt=\"Open In Colab\"/></a>"
      ]
    },
    {
      "cell_type": "code",
      "source": [
        "# importing required libraries\n",
        "from bs4 import BeautifulSoup\n",
        "import os\n",
        "import re\n",
        "import csv"
      ],
      "metadata": {
        "id": "DXUZLwdghSQc"
      },
      "execution_count": 1,
      "outputs": []
    },
    {
      "cell_type": "code",
      "execution_count": 30,
      "metadata": {
        "id": "835gfOpJW1T_"
      },
      "outputs": [],
      "source": [
        "def NameEntityRecognition(t,f):\n",
        "  \"\"\"\n",
        "  input parameters = .htm file and current directory name\n",
        "  output parameters = csv file with name entry recognition of '.htm' file\n",
        "\n",
        "  \"\"\"\n",
        "  with open(t,'r') as fp:\n",
        "    soup = BeautifulSoup(fp, 'html.parser')\n",
        "    # remove all script & style elements\n",
        "  for script in soup([\"script\", \"style\"]):\n",
        "    script.extract()\n",
        "\n",
        "  # get text\n",
        "  text = soup.get_text()\n",
        "  # break into lines and remove leading and trailing space on each\n",
        "  lines = (line.strip() for line in text.splitlines())\n",
        "  # break multi-headlines into a line each\n",
        "  chunks = (phrase.strip() for line in lines for phrase in line.split(\"  \"))\n",
        "  # drop blank lines\n",
        "  text = ','.join(chunk for chunk in chunks if chunk)\n",
        "  # replace all the non charecter elements with comma\n",
        "  nouns=re.sub(r'[^a-zA-Z]', ',', text)\n",
        "  # collecting all words with 3 or more charecters\n",
        "  ner=re.findall('\\w{3,}',nouns)\n",
        "\n",
        "  # creating a new file name for output file\n",
        "  newfile = 'NER_of_'+f+'_'+t[:-4]+'.csv'\n",
        "  with open(newfile, 'w') as f:\n",
        "    #using csv.writer method from CSV package to generate csv\n",
        "    writer = csv.writer(f)\n",
        "    writer.writerow(ner)\n",
        "\n",
        "# Code to check all the .htm files present in the directories to run the code\n",
        "for cd in os.listdir('.'):\n",
        "  if re.match('blore|calcutta|delhi|mumbai',cd.strip()):\n",
        "    for t in os.listdir(cd):\n",
        "      if re.match('^.*\\.htm$',cd.strip()):\n",
        "        NameEntityRecognition(t,cd)\n"
      ]
    }
  ]
}